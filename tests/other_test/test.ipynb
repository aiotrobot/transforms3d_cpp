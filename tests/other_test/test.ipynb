{
 "cells": [
  {
   "cell_type": "code",
   "execution_count": 6,
   "id": "988b3172",
   "metadata": {},
   "outputs": [
    {
     "name": "stdout",
     "output_type": "stream",
     "text": [
      "[[-7.66044443e-01  6.42787610e-01  7.87187789e-17 -5.44000000e-01]\n",
      " [ 6.42787610e-01  7.66044443e-01  9.38133875e-17 -2.03000000e-01]\n",
      " [ 0.00000000e+00  1.22464680e-16 -1.00000000e+00 -3.70000000e-02]\n",
      " [ 0.00000000e+00  0.00000000e+00  0.00000000e+00  1.00000000e+00]]\n",
      "[[ 0.70710678 -0.70710678  0.          0.056     ]\n",
      " [ 0.70710678  0.70710678  0.         -0.056     ]\n",
      " [ 0.          0.          1.         -0.106     ]\n",
      " [ 0.          0.          0.          1.        ]]\n",
      "[[ 0.70710678  0.70710678  0.          0.02      ]\n",
      " [-0.70710678  0.70710678  0.         -0.04      ]\n",
      " [ 0.          0.          1.          0.3       ]\n",
      " [ 0.          0.          0.          1.        ]]\n",
      "[[-8.71557427e-02  9.96194698e-01  7.87187789e-17 -6.22894595e-01]\n",
      " [ 9.96194698e-01  8.71557427e-02  9.38133875e-17 -2.09902383e-01]\n",
      " [ 8.65956056e-17  8.65956056e-17 -1.00000000e+00  6.90000000e-02]\n",
      " [ 0.00000000e+00  0.00000000e+00  0.00000000e+00  1.00000000e+00]]\n",
      "[[-7.66044443e-01  6.42787610e-01  7.87187789e-17 -6.64485498e-01]\n",
      " [ 6.42787610e-01  7.66044443e-01  9.38133875e-17 -1.93464718e-01]\n",
      " [-2.30999782e-33  1.22464680e-16 -1.00000000e+00 -2.31000000e-01]\n",
      " [ 0.00000000e+00  0.00000000e+00  0.00000000e+00  1.00000000e+00]]\n"
     ]
    }
   ],
   "source": [
    "#!/usr/bin/env python\n",
    "# coding: utf-8\n",
    "import transforms3d as tfs\n",
    "import numpy as np\n",
    "import math\n",
    "\n",
    "def get_matrix_eular_radu(x,y,z,rx,ry,rz):\n",
    "    rmat = tfs.euler.euler2mat(math.radians(rx),math.radians(ry),math.radians(rz))\n",
    "    rmat = tfs.affines.compose(np.squeeze(np.asarray((x,y,z))), rmat, [1, 1, 1])\n",
    "    return rmatzsa\n",
    "\n",
    "\n",
    "\"\"\"\n",
    "   /* base@grapper  */\n",
    "    Matrix4d Tbg = TransForms::ComposeEuler(-0.544, -0.203,-0.037, 180, 0.00000, 140);\n",
    "    /* grapper@camera */\n",
    "    Matrix4d Tgc  = TransForms::ComposeEuler(0.056,-0.056,-0.106,0,-0,45);\n",
    "    /*  camera@maker*/\n",
    "    Matrix4d Tcw  = TransForms::ComposeEuler(0.056,-0.056,-0.106,0,-0,45);\n",
    "    Matrix4d Tbw  = TransForms::ComposeEuler(-0.663,-0.193,-0.231,-180,0,140);\n",
    "# Tcg = np.dot(np.linalg.pinv(MA),MB).reshape(3,)\n",
    "# print(tfs.affines.compose(Tcg,np.squeeze(Rcg),[1,1,1]))\n",
    "\"\"\"\n",
    "Tbg = get_matrix_eular_radu(-0.544, -0.203,-0.037, 180, 0.00000, 140)\n",
    "Tgc = get_matrix_eular_radu(0.056,-0.056,-0.106,0,0,45)\n",
    "Tcw = get_matrix_eular_radu(0.020,-0.040,0.300,0,0,-45)\n",
    "Tbc = np.dot(Tbg,Tgc)\n",
    "Tbw = np.dot(Tbc,Tcw)\n",
    "print(Tbg)\n",
    "print(Tgc)\n",
    "print(Tcw)\n",
    "print(Tbc)\n",
    "print(Tbw)\n"
   ]
  },
  {
   "cell_type": "code",
   "execution_count": 4,
   "id": "38cdc8da",
   "metadata": {},
   "outputs": [
    {
     "name": "stdout",
     "output_type": "stream",
     "text": [
      "Collecting numpy\n",
      "  Downloading numpy-1.20.2-cp38-cp38-manylinux2010_x86_64.whl (15.4 MB)\n",
      "\u001b[K     |████████████████████████████████| 15.4 MB 1.1 MB/s eta 0:00:01    |███▏                            | 1.5 MB 1.1 MB/s eta 0:00:13     |██████▋                         | 3.2 MB 1.1 MB/s eta 0:00:12     |█████████▊                      | 4.7 MB 838 kB/s eta 0:00:13\n",
      "\u001b[?25hInstalling collected packages: numpy\n",
      "Successfully installed numpy-1.20.2\n"
     ]
    }
   ],
   "source": [
    "!pip install numpy"
   ]
  },
  {
   "cell_type": "code",
   "execution_count": 11,
   "id": "e0cafa1e",
   "metadata": {},
   "outputs": [],
   "source": [
    "import rospy"
   ]
  },
  {
   "cell_type": "code",
   "execution_count": null,
   "id": "4acc9ee4",
   "metadata": {},
   "outputs": [],
   "source": []
  },
  {
   "cell_type": "code",
   "execution_count": null,
   "id": "5794b654",
   "metadata": {},
   "outputs": [],
   "source": []
  }
 ],
 "metadata": {
  "kernelspec": {
   "display_name": "Python 3",
   "language": "python",
   "name": "python3"
  },
  "language_info": {
   "codemirror_mode": {
    "name": "ipython",
    "version": 3
   },
   "file_extension": ".py",
   "mimetype": "text/x-python",
   "name": "python",
   "nbconvert_exporter": "python",
   "pygments_lexer": "ipython3",
   "version": "3.8.5"
  }
 },
 "nbformat": 4,
 "nbformat_minor": 5
}
